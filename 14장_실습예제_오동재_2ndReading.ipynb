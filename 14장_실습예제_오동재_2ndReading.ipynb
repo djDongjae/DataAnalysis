{
  "nbformat": 4,
  "nbformat_minor": 0,
  "metadata": {
    "colab": {
      "private_outputs": true,
      "provenance": [],
      "mount_file_id": "1tSsFmKDs7NTjxzRQmCIYsSrULvUxK8fU",
      "authorship_tag": "ABX9TyNIRuobZ76hY8aa4A0lv4zL",
      "include_colab_link": true
    },
    "kernelspec": {
      "name": "python3",
      "display_name": "Python 3"
    },
    "language_info": {
      "name": "python"
    }
  },
  "cells": [
    {
      "cell_type": "markdown",
      "metadata": {
        "id": "view-in-github",
        "colab_type": "text"
      },
      "source": [
        "<a href=\"https://colab.research.google.com/github/djdongjae/DataAnalysis/blob/main/14%EC%9E%A5_%EC%8B%A4%EC%8A%B5%EC%98%88%EC%A0%9C_%EC%98%A4%EB%8F%99%EC%9E%AC_2ndReading.ipynb\" target=\"_parent\"><img src=\"https://colab.research.google.com/assets/colab-badge.svg\" alt=\"Open In Colab\"/></a>"
      ]
    },
    {
      "cell_type": "markdown",
      "source": [
        "#[14-2] t 검정 - 두 집단의 평균 비교하기"
      ],
      "metadata": {
        "id": "cuL2KGpCfAe4"
      }
    },
    {
      "cell_type": "code",
      "execution_count": null,
      "metadata": {
        "id": "h7PjrA5IevHN"
      },
      "outputs": [],
      "source": [
        "import pandas as pd\n",
        "mpg = pd.read_csv('/content/drive/MyDrive/데이터분석입문/Doit_Python-main/Data/mpg.csv')\n",
        "\n",
        "mpg\\\n",
        ".query('category in [\"compact\", \"suv\"]')\\\n",
        ".groupby('category', as_index = False)\\\n",
        ".agg(n = ('cty', 'count'),\n",
        "     mean = ('cty', 'mean'))"
      ]
    },
    {
      "cell_type": "code",
      "source": [
        "compact = mpg.query('category == \"compact\"')['cty']\n",
        "suv = mpg.query('category == \"suv\"')['cty']"
      ],
      "metadata": {
        "id": "yTg2LkNghi8t"
      },
      "execution_count": null,
      "outputs": []
    },
    {
      "cell_type": "code",
      "source": [
        "from scipy import stats\n",
        "stats.ttest_ind(compact, suv, equal_var = True)"
      ],
      "metadata": {
        "id": "sKjcj6qokYuC"
      },
      "execution_count": null,
      "outputs": []
    },
    {
      "cell_type": "code",
      "source": [
        "mpg\\\n",
        ".query('fl in [\"r\", \"p\"]')\\\n",
        ".groupby('fl', as_index = False)\\\n",
        ".agg(n = ('fl', 'count'),\n",
        "     mean = ('cty', 'mean'))"
      ],
      "metadata": {
        "id": "oVoywxv-kkUs"
      },
      "execution_count": null,
      "outputs": []
    },
    {
      "cell_type": "code",
      "source": [
        "r = mpg.query('fl == \"r\"')['cty']\n",
        "p = mpg.query('fl == \"p\"')['cty']\n",
        "\n",
        "stats.ttest_ind(r, p, equal_var = True)"
      ],
      "metadata": {
        "id": "ReoYt4YPlkeC"
      },
      "execution_count": null,
      "outputs": []
    },
    {
      "cell_type": "markdown",
      "source": [
        "#[14-3] 상관분석 - 두 변수의 관계 분석하기"
      ],
      "metadata": {
        "id": "SHx_l0hbmhPu"
      }
    },
    {
      "cell_type": "code",
      "source": [
        "economics = pd.read_csv('/content/drive/MyDrive/데이터분석입문/Doit_Python-main/Data/economics.csv')"
      ],
      "metadata": {
        "id": "jRH2Xzb7mXtB"
      },
      "execution_count": null,
      "outputs": []
    },
    {
      "cell_type": "code",
      "source": [
        "economics[['unemploy', 'pce']].corr()"
      ],
      "metadata": {
        "id": "V8MoFrsLnr_o"
      },
      "execution_count": null,
      "outputs": []
    },
    {
      "cell_type": "code",
      "source": [
        "stats.pearsonr(economics['unemploy'], economics['pce'])"
      ],
      "metadata": {
        "id": "h679HhuytbXP"
      },
      "execution_count": null,
      "outputs": []
    },
    {
      "cell_type": "code",
      "source": [
        "mtcars = pd.read_csv('/content/drive/MyDrive/데이터분석입문/Doit_Python-main/Data/mtcars.csv')\n",
        "mtcars.head()"
      ],
      "metadata": {
        "id": "IAHTKkituDgn"
      },
      "execution_count": null,
      "outputs": []
    },
    {
      "cell_type": "code",
      "source": [
        "car_cor = mtcars.corr()\n",
        "car_cor = round(car_cor, 2)\n",
        "car_cor"
      ],
      "metadata": {
        "id": "dGB-aGUnvCqQ"
      },
      "execution_count": null,
      "outputs": []
    },
    {
      "cell_type": "code",
      "source": [
        "import matplotlib.pyplot as plt\n",
        "plt.rcParams.update({'figure.dpi' : '120',  #해상도 설정\n",
        "                     'figure.figsize' : [7.5, 5.5]})    # 가로 세로 크기 설정"
      ],
      "metadata": {
        "id": "9GO6j7y4yFdf"
      },
      "execution_count": null,
      "outputs": []
    },
    {
      "cell_type": "code",
      "source": [
        "import seaborn as sns\n",
        "sns.heatmap(car_cor,\n",
        "            annot = True,   #상관계수 표시\n",
        "            cmap = 'RdBu')  #컬러맵"
      ],
      "metadata": {
        "id": "N9ULpNkZytVO"
      },
      "execution_count": null,
      "outputs": []
    },
    {
      "cell_type": "code",
      "source": [
        "import numpy as np\n",
        "mask = np.zeros_like(car_cor)\n",
        "mask"
      ],
      "metadata": {
        "id": "6WcyEwkpy8k3"
      },
      "execution_count": null,
      "outputs": []
    },
    {
      "cell_type": "code",
      "source": [
        "# 오른쪽 위 대각 행렬을 1로 바꾸기\n",
        "mask[np.triu_indices_from(mask)] = 1\n",
        "mask"
      ],
      "metadata": {
        "id": "uKxivNfnz68N"
      },
      "execution_count": null,
      "outputs": []
    },
    {
      "cell_type": "code",
      "source": [
        "sns.heatmap(car_cor,\n",
        "            annot = True, # 상관계수 표시\n",
        "            cmap = 'RdBu', # 컬러맵\n",
        "            mask = mask) # mask 적용"
      ],
      "metadata": {
        "id": "khA_Opt80-L2"
      },
      "execution_count": null,
      "outputs": []
    },
    {
      "cell_type": "code",
      "source": [
        "mask_new = mask[1: , :-1]\n",
        "car_new = car_cor.iloc[1:, :-1]"
      ],
      "metadata": {
        "id": "N-8ONacI1LYX"
      },
      "execution_count": null,
      "outputs": []
    },
    {
      "cell_type": "code",
      "source": [
        "sns.heatmap(car_new,\n",
        "            annot = True,\n",
        "            cmap = 'RdBu',\n",
        "            mask = mask_new)"
      ],
      "metadata": {
        "id": "KK3EpWzE3GxC"
      },
      "execution_count": null,
      "outputs": []
    },
    {
      "cell_type": "code",
      "source": [],
      "metadata": {
        "id": "I7497XPJ3b27"
      },
      "execution_count": null,
      "outputs": []
    }
  ]
}