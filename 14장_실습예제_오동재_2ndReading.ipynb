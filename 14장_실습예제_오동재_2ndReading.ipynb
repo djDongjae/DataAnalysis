{
  "nbformat": 4,
  "nbformat_minor": 0,
  "metadata": {
    "colab": {
      "private_outputs": true,
      "provenance": [],
      "authorship_tag": "ABX9TyMc//s6hkUqovD7TVONMQ9B",
      "include_colab_link": true
    },
    "kernelspec": {
      "name": "python3",
      "display_name": "Python 3"
    },
    "language_info": {
      "name": "python"
    }
  },
  "cells": [
    {
      "cell_type": "markdown",
      "metadata": {
        "id": "view-in-github",
        "colab_type": "text"
      },
      "source": [
        "<a href=\"https://colab.research.google.com/github/djdongjae/DataAnalysis/blob/main/14%EC%9E%A5_%EC%8B%A4%EC%8A%B5%EC%98%88%EC%A0%9C_%EC%98%A4%EB%8F%99%EC%9E%AC_2ndReading.ipynb\" target=\"_parent\"><img src=\"https://colab.research.google.com/assets/colab-badge.svg\" alt=\"Open In Colab\"/></a>"
      ]
    },
    {
      "cell_type": "markdown",
      "source": [
        "#[14-2] t 검정 - 두 집단의 평균 비교하기"
      ],
      "metadata": {
        "id": "cuL2KGpCfAe4"
      }
    },
    {
      "cell_type": "code",
      "execution_count": null,
      "metadata": {
        "id": "h7PjrA5IevHN"
      },
      "outputs": [],
      "source": [
        "import pandas as pd\n",
        "mpg = pd.read_csv('/content/drive/MyDrive/데이터분석입문/Doit_Python-main/Data/mpg.csv')\n",
        "\n",
        "mpg\\\n",
        ".query('category in [\"compact\", \"suv\"]')\\\n",
        ".groupby('category', as_index = False)\\\n",
        ".agg(n = ('cty', 'count'),\n",
        "     mean = ('cty', 'mean'))"
      ]
    },
    {
      "cell_type": "code",
      "source": [
        "compact = mpg.query('category == \"compact\"')['cty']\n",
        "suv = mpg.query('category == \"suv\"')['cty']"
      ],
      "metadata": {
        "id": "yTg2LkNghi8t"
      },
      "execution_count": null,
      "outputs": []
    },
    {
      "cell_type": "code",
      "source": [
        "from scipy import stats\n",
        "stats.ttest_ind(compact, suv, equal_var = True)"
      ],
      "metadata": {
        "id": "sKjcj6qokYuC"
      },
      "execution_count": null,
      "outputs": []
    },
    {
      "cell_type": "code",
      "source": [
        "mpg\\\n",
        ".query('fl in [\"r\", \"p\"]')\\\n",
        ".groupby('fl', as_index = False)\\\n",
        ".agg(n = ('fl', 'count'),\n",
        "     mean = ('cty', 'mean'))"
      ],
      "metadata": {
        "id": "oVoywxv-kkUs"
      },
      "execution_count": null,
      "outputs": []
    },
    {
      "cell_type": "code",
      "source": [
        "r = mpg.query('fl == \"r\"')['cty']\n",
        "p = mpg.query('fl == \"p\"')['cty']\n",
        "\n",
        "stats.ttest_ind(r, p, equal_var = True)"
      ],
      "metadata": {
        "id": "ReoYt4YPlkeC"
      },
      "execution_count": null,
      "outputs": []
    },
    {
      "cell_type": "markdown",
      "source": [
        "#[14-3] 상관분석 - 두 변수의 관계 분석하기"
      ],
      "metadata": {
        "id": "SHx_l0hbmhPu"
      }
    },
    {
      "cell_type": "code",
      "source": [
        "economics = pd.read_csv('/content/drive/MyDrive/데이터분석입문/Doit_Python-main/Data/economics.csv')"
      ],
      "metadata": {
        "id": "jRH2Xzb7mXtB"
      },
      "execution_count": null,
      "outputs": []
    },
    {
      "cell_type": "code",
      "source": [
        "economics[['unemploy', 'pce']].corr()"
      ],
      "metadata": {
        "id": "V8MoFrsLnr_o"
      },
      "execution_count": null,
      "outputs": []
    }
  ]
}