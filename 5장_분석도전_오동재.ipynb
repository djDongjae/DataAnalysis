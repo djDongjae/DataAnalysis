{
  "nbformat": 4,
  "nbformat_minor": 0,
  "metadata": {
    "colab": {
      "private_outputs": true,
      "provenance": [],
      "collapsed_sections": [],
      "mount_file_id": "1J5sEf0_2fhLYlywrxTmW-5o9gktVewVL",
      "authorship_tag": "ABX9TyMnLL5E0sKR6OvkNI3UEPL0",
      "include_colab_link": true
    },
    "kernelspec": {
      "name": "python3",
      "display_name": "Python 3"
    },
    "language_info": {
      "name": "python"
    }
  },
  "cells": [
    {
      "cell_type": "markdown",
      "metadata": {
        "id": "view-in-github",
        "colab_type": "text"
      },
      "source": [
        "<a href=\"https://colab.research.google.com/github/djDongjae/DataAnalysis/blob/main/5%EC%9E%A5_%EB%B6%84%EC%84%9D%EB%8F%84%EC%A0%84_%EC%98%A4%EB%8F%99%EC%9E%AC.ipynb\" target=\"_parent\"><img src=\"https://colab.research.google.com/assets/colab-badge.svg\" alt=\"Open In Colab\"/></a>"
      ]
    },
    {
      "cell_type": "code",
      "execution_count": null,
      "metadata": {
        "id": "kXJ1p0WgiWRb"
      },
      "outputs": [],
      "source": [
        "#201914089 오동재\n",
        "import pandas as pd\n",
        "import numpy as np\n",
        "midwest = pd.read_csv('/content/drive/MyDrive/데이터분석입문/Doit_Python-main/Data/midwest.csv')"
      ]
    },
    {
      "cell_type": "code",
      "source": [
        "#1\n",
        "print(midwest.shape)\n",
        "midwest.info()\n",
        "midwest.describe()"
      ],
      "metadata": {
        "id": "BIToXYI1jHEZ"
      },
      "execution_count": null,
      "outputs": []
    },
    {
      "cell_type": "code",
      "source": [
        "#2\n",
        "midwest = midwest.rename(columns = {'poptotal':'total', 'popasian': 'asian'})\n",
        "midwest"
      ],
      "metadata": {
        "id": "SkmqoFTijWA5"
      },
      "execution_count": null,
      "outputs": []
    },
    {
      "cell_type": "code",
      "source": [
        "#3\n",
        "midwest['asian_percent'] = (midwest['asian']/midwest['total']) * 100\n",
        "midwest"
      ],
      "metadata": {
        "id": "A1DsMcjgkki6"
      },
      "execution_count": null,
      "outputs": []
    },
    {
      "cell_type": "code",
      "source": [
        "#4\n",
        "midwest['asian_percent'].mean()"
      ],
      "metadata": {
        "id": "0svO_W_vlMfK"
      },
      "execution_count": null,
      "outputs": []
    },
    {
      "cell_type": "code",
      "source": [
        "midwest['asian_quantity'] = np.where(midwest['asian_percent'] >= 0.4872461834357345, 'large', 'small')\n",
        "midwest['asian_quantity']"
      ],
      "metadata": {
        "id": "8XjB2T7gl5aC"
      },
      "execution_count": null,
      "outputs": []
    },
    {
      "cell_type": "code",
      "source": [
        "#5\n",
        "count_quantity = midwest['asian_quantity'].value_counts()\n",
        "count_quantity"
      ],
      "metadata": {
        "id": "L69JpFCUmpmN"
      },
      "execution_count": null,
      "outputs": []
    },
    {
      "cell_type": "code",
      "source": [
        "count_quantity.plot.bar(rot = 0)"
      ],
      "metadata": {
        "id": "QIbvUzEc3Obm"
      },
      "execution_count": null,
      "outputs": []
    }
  ]
}