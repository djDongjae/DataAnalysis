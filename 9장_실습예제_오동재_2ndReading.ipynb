{
  "nbformat": 4,
  "nbformat_minor": 0,
  "metadata": {
    "colab": {
      "provenance": [],
      "mount_file_id": "1JBAPP8wTqmHSqyhfcTcGTAqgFnDUeqcv",
      "authorship_tag": "ABX9TyP+9J0NYkGfQ9bPa3A7ML1V",
      "include_colab_link": true
    },
    "kernelspec": {
      "name": "python3",
      "display_name": "Python 3"
    },
    "language_info": {
      "name": "python"
    }
  },
  "cells": [
    {
      "cell_type": "markdown",
      "metadata": {
        "id": "view-in-github",
        "colab_type": "text"
      },
      "source": [
        "<a href=\"https://colab.research.google.com/github/djdongjae/DataAnalysis/blob/main/9%EC%9E%A5_%EC%8B%A4%EC%8A%B5%EC%98%88%EC%A0%9C_%EC%98%A4%EB%8F%99%EC%9E%AC_2ndReading.ipynb\" target=\"_parent\"><img src=\"https://colab.research.google.com/assets/colab-badge.svg\" alt=\"Open In Colab\"/></a>"
      ]
    },
    {
      "cell_type": "markdown",
      "source": [
        "#[09-1] '한국복지패널 데이터' 분석 준비하기"
      ],
      "metadata": {
        "id": "MHfmFdbFHk5u"
      }
    },
    {
      "cell_type": "code",
      "execution_count": 28,
      "metadata": {
        "colab": {
          "base_uri": "https://localhost:8080/"
        },
        "id": "vLyYPwXZWVZk",
        "outputId": "b1c92805-17a1-4ea8-a20e-f29fa4cbb490"
      },
      "outputs": [
        {
          "output_type": "stream",
          "name": "stdout",
          "text": [
            "Looking in indexes: https://pypi.org/simple, https://us-python.pkg.dev/colab-wheels/public/simple/\n",
            "Requirement already satisfied: pyreadstat in /usr/local/lib/python3.7/dist-packages (1.2.0)\n",
            "Requirement already satisfied: pandas>=1.2.0 in /usr/local/lib/python3.7/dist-packages (from pyreadstat) (1.3.5)\n",
            "Requirement already satisfied: numpy>=1.17.3 in /usr/local/lib/python3.7/dist-packages (from pandas>=1.2.0->pyreadstat) (1.21.6)\n",
            "Requirement already satisfied: pytz>=2017.3 in /usr/local/lib/python3.7/dist-packages (from pandas>=1.2.0->pyreadstat) (2022.6)\n",
            "Requirement already satisfied: python-dateutil>=2.7.3 in /usr/local/lib/python3.7/dist-packages (from pandas>=1.2.0->pyreadstat) (2.8.2)\n",
            "Requirement already satisfied: six>=1.5 in /usr/local/lib/python3.7/dist-packages (from python-dateutil>=2.7.3->pandas>=1.2.0->pyreadstat) (1.15.0)\n"
          ]
        }
      ],
      "source": [
        "!pip install pyreadstat"
      ]
    },
    {
      "cell_type": "code",
      "source": [
        "import pandas as pd\n",
        "import numpy as np\n",
        "import seaborn as sns"
      ],
      "metadata": {
        "id": "hlchkuGoXL6d"
      },
      "execution_count": 29,
      "outputs": []
    },
    {
      "cell_type": "code",
      "source": [
        "raw_welfare = pd.read_spss('/content/drive/MyDrive/데이터분석입문/Doit_Python-main/Data/Koweps_hpwc14_2019_beta2.sav')"
      ],
      "metadata": {
        "id": "v5b4ACubXThY"
      },
      "execution_count": 30,
      "outputs": []
    },
    {
      "cell_type": "code",
      "source": [
        "welfare = raw_welfare.copy()"
      ],
      "metadata": {
        "id": "yPkA3J4XX1KV"
      },
      "execution_count": 31,
      "outputs": []
    },
    {
      "cell_type": "code",
      "source": [
        "welfare"
      ],
      "metadata": {
        "colab": {
          "base_uri": "https://localhost:8080/",
          "height": 487
        },
        "id": "3lga3zz3X5LA",
        "outputId": "85ffa68f-ac0c-4e8e-9e97-fee56f27f2f7"
      },
      "execution_count": 32,
      "outputs": [
        {
          "output_type": "execute_result",
          "data": {
            "text/plain": [
              "       h14_id  h14_ind  h14_sn  h14_merkey  h_new  h14_cobf   p14_wsc  \\\n",
              "0         2.0      1.0     1.0     20101.0    0.0       NaN  0.291589   \n",
              "1         3.0      1.0     1.0     30101.0    0.0       NaN  0.419753   \n",
              "2         4.0      1.0     1.0     40101.0    0.0       NaN  0.265263   \n",
              "3         6.0      1.0     1.0     60101.0    0.0       NaN  0.494906   \n",
              "4         6.0      1.0     1.0     60101.0    0.0       NaN  1.017935   \n",
              "...       ...      ...     ...         ...    ...       ...       ...   \n",
              "14413  9800.0      7.0     1.0  98000701.0    1.0       NaN       NaN   \n",
              "14414  9800.0      7.0     1.0  98000701.0    1.0       NaN       NaN   \n",
              "14415  9800.0      7.0     1.0  98000701.0    1.0       NaN       NaN   \n",
              "14416  9800.0      7.0     1.0  98000701.0    1.0       NaN       NaN   \n",
              "14417  9800.0      7.0     1.0  98000701.0    1.0       NaN       NaN   \n",
              "\n",
              "        p14_wsl      p14_wgc      p14_wgl  ...  wc14_64  wc14_65  wc14_5aq4  \\\n",
              "0      0.291589  1307.764781  1307.764781  ...      NaN                 NaN   \n",
              "1      0.419753  1882.570960  1882.570960  ...      NaN                 NaN   \n",
              "2      0.265980  1189.691668  1192.908537  ...      NaN                 NaN   \n",
              "3      0.495941  2219.630833  2224.273816  ...      1.0        .        2.0   \n",
              "4      1.017935  4565.389177  4565.389177  ...      1.0        .        1.0   \n",
              "...         ...          ...          ...  ...      ...      ...        ...   \n",
              "14413       NaN          NaN          NaN  ...      NaN                 NaN   \n",
              "14414       NaN          NaN          NaN  ...      NaN                 NaN   \n",
              "14415       NaN          NaN          NaN  ...      NaN                 NaN   \n",
              "14416       NaN          NaN          NaN  ...      5.0        .        4.0   \n",
              "14417       NaN          NaN          NaN  ...      NaN                 NaN   \n",
              "\n",
              "       wc14_5aq5  wc14_5aq6  h14_pers_income1  h14_pers_income2  \\\n",
              "0            NaN        NaN               NaN               NaN   \n",
              "1            NaN        NaN               NaN               NaN   \n",
              "2            NaN        NaN               NaN            1284.0   \n",
              "3            4.0        4.0            2304.0               NaN   \n",
              "4            5.0        2.0               NaN               NaN   \n",
              "...          ...        ...               ...               ...   \n",
              "14413        NaN        NaN               NaN               NaN   \n",
              "14414        NaN        NaN               NaN               NaN   \n",
              "14415        NaN        NaN               NaN             208.0   \n",
              "14416        3.0        3.0               NaN            1200.0   \n",
              "14417        NaN        NaN               NaN               NaN   \n",
              "\n",
              "       h14_pers_income3  h14_pers_income4  h14_pers_income5  \n",
              "0                   NaN               0.0               NaN  \n",
              "1                   NaN               0.0               NaN  \n",
              "2                   NaN               0.0               NaN  \n",
              "3                1800.0               0.0               NaN  \n",
              "4                   NaN               0.0               NaN  \n",
              "...                 ...               ...               ...  \n",
              "14413               NaN               0.0               NaN  \n",
              "14414               NaN               0.0               NaN  \n",
              "14415               NaN               0.0               NaN  \n",
              "14416               NaN               0.0               NaN  \n",
              "14417               NaN               0.0               NaN  \n",
              "\n",
              "[14418 rows x 830 columns]"
            ],
            "text/html": [
              "\n",
              "  <div id=\"df-954671d2-24b9-4503-86b9-199cb19557fb\">\n",
              "    <div class=\"colab-df-container\">\n",
              "      <div>\n",
              "<style scoped>\n",
              "    .dataframe tbody tr th:only-of-type {\n",
              "        vertical-align: middle;\n",
              "    }\n",
              "\n",
              "    .dataframe tbody tr th {\n",
              "        vertical-align: top;\n",
              "    }\n",
              "\n",
              "    .dataframe thead th {\n",
              "        text-align: right;\n",
              "    }\n",
              "</style>\n",
              "<table border=\"1\" class=\"dataframe\">\n",
              "  <thead>\n",
              "    <tr style=\"text-align: right;\">\n",
              "      <th></th>\n",
              "      <th>h14_id</th>\n",
              "      <th>h14_ind</th>\n",
              "      <th>h14_sn</th>\n",
              "      <th>h14_merkey</th>\n",
              "      <th>h_new</th>\n",
              "      <th>h14_cobf</th>\n",
              "      <th>p14_wsc</th>\n",
              "      <th>p14_wsl</th>\n",
              "      <th>p14_wgc</th>\n",
              "      <th>p14_wgl</th>\n",
              "      <th>...</th>\n",
              "      <th>wc14_64</th>\n",
              "      <th>wc14_65</th>\n",
              "      <th>wc14_5aq4</th>\n",
              "      <th>wc14_5aq5</th>\n",
              "      <th>wc14_5aq6</th>\n",
              "      <th>h14_pers_income1</th>\n",
              "      <th>h14_pers_income2</th>\n",
              "      <th>h14_pers_income3</th>\n",
              "      <th>h14_pers_income4</th>\n",
              "      <th>h14_pers_income5</th>\n",
              "    </tr>\n",
              "  </thead>\n",
              "  <tbody>\n",
              "    <tr>\n",
              "      <th>0</th>\n",
              "      <td>2.0</td>\n",
              "      <td>1.0</td>\n",
              "      <td>1.0</td>\n",
              "      <td>20101.0</td>\n",
              "      <td>0.0</td>\n",
              "      <td>NaN</td>\n",
              "      <td>0.291589</td>\n",
              "      <td>0.291589</td>\n",
              "      <td>1307.764781</td>\n",
              "      <td>1307.764781</td>\n",
              "      <td>...</td>\n",
              "      <td>NaN</td>\n",
              "      <td></td>\n",
              "      <td>NaN</td>\n",
              "      <td>NaN</td>\n",
              "      <td>NaN</td>\n",
              "      <td>NaN</td>\n",
              "      <td>NaN</td>\n",
              "      <td>NaN</td>\n",
              "      <td>0.0</td>\n",
              "      <td>NaN</td>\n",
              "    </tr>\n",
              "    <tr>\n",
              "      <th>1</th>\n",
              "      <td>3.0</td>\n",
              "      <td>1.0</td>\n",
              "      <td>1.0</td>\n",
              "      <td>30101.0</td>\n",
              "      <td>0.0</td>\n",
              "      <td>NaN</td>\n",
              "      <td>0.419753</td>\n",
              "      <td>0.419753</td>\n",
              "      <td>1882.570960</td>\n",
              "      <td>1882.570960</td>\n",
              "      <td>...</td>\n",
              "      <td>NaN</td>\n",
              "      <td></td>\n",
              "      <td>NaN</td>\n",
              "      <td>NaN</td>\n",
              "      <td>NaN</td>\n",
              "      <td>NaN</td>\n",
              "      <td>NaN</td>\n",
              "      <td>NaN</td>\n",
              "      <td>0.0</td>\n",
              "      <td>NaN</td>\n",
              "    </tr>\n",
              "    <tr>\n",
              "      <th>2</th>\n",
              "      <td>4.0</td>\n",
              "      <td>1.0</td>\n",
              "      <td>1.0</td>\n",
              "      <td>40101.0</td>\n",
              "      <td>0.0</td>\n",
              "      <td>NaN</td>\n",
              "      <td>0.265263</td>\n",
              "      <td>0.265980</td>\n",
              "      <td>1189.691668</td>\n",
              "      <td>1192.908537</td>\n",
              "      <td>...</td>\n",
              "      <td>NaN</td>\n",
              "      <td></td>\n",
              "      <td>NaN</td>\n",
              "      <td>NaN</td>\n",
              "      <td>NaN</td>\n",
              "      <td>NaN</td>\n",
              "      <td>1284.0</td>\n",
              "      <td>NaN</td>\n",
              "      <td>0.0</td>\n",
              "      <td>NaN</td>\n",
              "    </tr>\n",
              "    <tr>\n",
              "      <th>3</th>\n",
              "      <td>6.0</td>\n",
              "      <td>1.0</td>\n",
              "      <td>1.0</td>\n",
              "      <td>60101.0</td>\n",
              "      <td>0.0</td>\n",
              "      <td>NaN</td>\n",
              "      <td>0.494906</td>\n",
              "      <td>0.495941</td>\n",
              "      <td>2219.630833</td>\n",
              "      <td>2224.273816</td>\n",
              "      <td>...</td>\n",
              "      <td>1.0</td>\n",
              "      <td>.</td>\n",
              "      <td>2.0</td>\n",
              "      <td>4.0</td>\n",
              "      <td>4.0</td>\n",
              "      <td>2304.0</td>\n",
              "      <td>NaN</td>\n",
              "      <td>1800.0</td>\n",
              "      <td>0.0</td>\n",
              "      <td>NaN</td>\n",
              "    </tr>\n",
              "    <tr>\n",
              "      <th>4</th>\n",
              "      <td>6.0</td>\n",
              "      <td>1.0</td>\n",
              "      <td>1.0</td>\n",
              "      <td>60101.0</td>\n",
              "      <td>0.0</td>\n",
              "      <td>NaN</td>\n",
              "      <td>1.017935</td>\n",
              "      <td>1.017935</td>\n",
              "      <td>4565.389177</td>\n",
              "      <td>4565.389177</td>\n",
              "      <td>...</td>\n",
              "      <td>1.0</td>\n",
              "      <td>.</td>\n",
              "      <td>1.0</td>\n",
              "      <td>5.0</td>\n",
              "      <td>2.0</td>\n",
              "      <td>NaN</td>\n",
              "      <td>NaN</td>\n",
              "      <td>NaN</td>\n",
              "      <td>0.0</td>\n",
              "      <td>NaN</td>\n",
              "    </tr>\n",
              "    <tr>\n",
              "      <th>...</th>\n",
              "      <td>...</td>\n",
              "      <td>...</td>\n",
              "      <td>...</td>\n",
              "      <td>...</td>\n",
              "      <td>...</td>\n",
              "      <td>...</td>\n",
              "      <td>...</td>\n",
              "      <td>...</td>\n",
              "      <td>...</td>\n",
              "      <td>...</td>\n",
              "      <td>...</td>\n",
              "      <td>...</td>\n",
              "      <td>...</td>\n",
              "      <td>...</td>\n",
              "      <td>...</td>\n",
              "      <td>...</td>\n",
              "      <td>...</td>\n",
              "      <td>...</td>\n",
              "      <td>...</td>\n",
              "      <td>...</td>\n",
              "      <td>...</td>\n",
              "    </tr>\n",
              "    <tr>\n",
              "      <th>14413</th>\n",
              "      <td>9800.0</td>\n",
              "      <td>7.0</td>\n",
              "      <td>1.0</td>\n",
              "      <td>98000701.0</td>\n",
              "      <td>1.0</td>\n",
              "      <td>NaN</td>\n",
              "      <td>NaN</td>\n",
              "      <td>NaN</td>\n",
              "      <td>NaN</td>\n",
              "      <td>NaN</td>\n",
              "      <td>...</td>\n",
              "      <td>NaN</td>\n",
              "      <td></td>\n",
              "      <td>NaN</td>\n",
              "      <td>NaN</td>\n",
              "      <td>NaN</td>\n",
              "      <td>NaN</td>\n",
              "      <td>NaN</td>\n",
              "      <td>NaN</td>\n",
              "      <td>0.0</td>\n",
              "      <td>NaN</td>\n",
              "    </tr>\n",
              "    <tr>\n",
              "      <th>14414</th>\n",
              "      <td>9800.0</td>\n",
              "      <td>7.0</td>\n",
              "      <td>1.0</td>\n",
              "      <td>98000701.0</td>\n",
              "      <td>1.0</td>\n",
              "      <td>NaN</td>\n",
              "      <td>NaN</td>\n",
              "      <td>NaN</td>\n",
              "      <td>NaN</td>\n",
              "      <td>NaN</td>\n",
              "      <td>...</td>\n",
              "      <td>NaN</td>\n",
              "      <td></td>\n",
              "      <td>NaN</td>\n",
              "      <td>NaN</td>\n",
              "      <td>NaN</td>\n",
              "      <td>NaN</td>\n",
              "      <td>NaN</td>\n",
              "      <td>NaN</td>\n",
              "      <td>0.0</td>\n",
              "      <td>NaN</td>\n",
              "    </tr>\n",
              "    <tr>\n",
              "      <th>14415</th>\n",
              "      <td>9800.0</td>\n",
              "      <td>7.0</td>\n",
              "      <td>1.0</td>\n",
              "      <td>98000701.0</td>\n",
              "      <td>1.0</td>\n",
              "      <td>NaN</td>\n",
              "      <td>NaN</td>\n",
              "      <td>NaN</td>\n",
              "      <td>NaN</td>\n",
              "      <td>NaN</td>\n",
              "      <td>...</td>\n",
              "      <td>NaN</td>\n",
              "      <td></td>\n",
              "      <td>NaN</td>\n",
              "      <td>NaN</td>\n",
              "      <td>NaN</td>\n",
              "      <td>NaN</td>\n",
              "      <td>208.0</td>\n",
              "      <td>NaN</td>\n",
              "      <td>0.0</td>\n",
              "      <td>NaN</td>\n",
              "    </tr>\n",
              "    <tr>\n",
              "      <th>14416</th>\n",
              "      <td>9800.0</td>\n",
              "      <td>7.0</td>\n",
              "      <td>1.0</td>\n",
              "      <td>98000701.0</td>\n",
              "      <td>1.0</td>\n",
              "      <td>NaN</td>\n",
              "      <td>NaN</td>\n",
              "      <td>NaN</td>\n",
              "      <td>NaN</td>\n",
              "      <td>NaN</td>\n",
              "      <td>...</td>\n",
              "      <td>5.0</td>\n",
              "      <td>.</td>\n",
              "      <td>4.0</td>\n",
              "      <td>3.0</td>\n",
              "      <td>3.0</td>\n",
              "      <td>NaN</td>\n",
              "      <td>1200.0</td>\n",
              "      <td>NaN</td>\n",
              "      <td>0.0</td>\n",
              "      <td>NaN</td>\n",
              "    </tr>\n",
              "    <tr>\n",
              "      <th>14417</th>\n",
              "      <td>9800.0</td>\n",
              "      <td>7.0</td>\n",
              "      <td>1.0</td>\n",
              "      <td>98000701.0</td>\n",
              "      <td>1.0</td>\n",
              "      <td>NaN</td>\n",
              "      <td>NaN</td>\n",
              "      <td>NaN</td>\n",
              "      <td>NaN</td>\n",
              "      <td>NaN</td>\n",
              "      <td>...</td>\n",
              "      <td>NaN</td>\n",
              "      <td></td>\n",
              "      <td>NaN</td>\n",
              "      <td>NaN</td>\n",
              "      <td>NaN</td>\n",
              "      <td>NaN</td>\n",
              "      <td>NaN</td>\n",
              "      <td>NaN</td>\n",
              "      <td>0.0</td>\n",
              "      <td>NaN</td>\n",
              "    </tr>\n",
              "  </tbody>\n",
              "</table>\n",
              "<p>14418 rows × 830 columns</p>\n",
              "</div>\n",
              "      <button class=\"colab-df-convert\" onclick=\"convertToInteractive('df-954671d2-24b9-4503-86b9-199cb19557fb')\"\n",
              "              title=\"Convert this dataframe to an interactive table.\"\n",
              "              style=\"display:none;\">\n",
              "        \n",
              "  <svg xmlns=\"http://www.w3.org/2000/svg\" height=\"24px\"viewBox=\"0 0 24 24\"\n",
              "       width=\"24px\">\n",
              "    <path d=\"M0 0h24v24H0V0z\" fill=\"none\"/>\n",
              "    <path d=\"M18.56 5.44l.94 2.06.94-2.06 2.06-.94-2.06-.94-.94-2.06-.94 2.06-2.06.94zm-11 1L8.5 8.5l.94-2.06 2.06-.94-2.06-.94L8.5 2.5l-.94 2.06-2.06.94zm10 10l.94 2.06.94-2.06 2.06-.94-2.06-.94-.94-2.06-.94 2.06-2.06.94z\"/><path d=\"M17.41 7.96l-1.37-1.37c-.4-.4-.92-.59-1.43-.59-.52 0-1.04.2-1.43.59L10.3 9.45l-7.72 7.72c-.78.78-.78 2.05 0 2.83L4 21.41c.39.39.9.59 1.41.59.51 0 1.02-.2 1.41-.59l7.78-7.78 2.81-2.81c.8-.78.8-2.07 0-2.86zM5.41 20L4 18.59l7.72-7.72 1.47 1.35L5.41 20z\"/>\n",
              "  </svg>\n",
              "      </button>\n",
              "      \n",
              "  <style>\n",
              "    .colab-df-container {\n",
              "      display:flex;\n",
              "      flex-wrap:wrap;\n",
              "      gap: 12px;\n",
              "    }\n",
              "\n",
              "    .colab-df-convert {\n",
              "      background-color: #E8F0FE;\n",
              "      border: none;\n",
              "      border-radius: 50%;\n",
              "      cursor: pointer;\n",
              "      display: none;\n",
              "      fill: #1967D2;\n",
              "      height: 32px;\n",
              "      padding: 0 0 0 0;\n",
              "      width: 32px;\n",
              "    }\n",
              "\n",
              "    .colab-df-convert:hover {\n",
              "      background-color: #E2EBFA;\n",
              "      box-shadow: 0px 1px 2px rgba(60, 64, 67, 0.3), 0px 1px 3px 1px rgba(60, 64, 67, 0.15);\n",
              "      fill: #174EA6;\n",
              "    }\n",
              "\n",
              "    [theme=dark] .colab-df-convert {\n",
              "      background-color: #3B4455;\n",
              "      fill: #D2E3FC;\n",
              "    }\n",
              "\n",
              "    [theme=dark] .colab-df-convert:hover {\n",
              "      background-color: #434B5C;\n",
              "      box-shadow: 0px 1px 3px 1px rgba(0, 0, 0, 0.15);\n",
              "      filter: drop-shadow(0px 1px 2px rgba(0, 0, 0, 0.3));\n",
              "      fill: #FFFFFF;\n",
              "    }\n",
              "  </style>\n",
              "\n",
              "      <script>\n",
              "        const buttonEl =\n",
              "          document.querySelector('#df-954671d2-24b9-4503-86b9-199cb19557fb button.colab-df-convert');\n",
              "        buttonEl.style.display =\n",
              "          google.colab.kernel.accessAllowed ? 'block' : 'none';\n",
              "\n",
              "        async function convertToInteractive(key) {\n",
              "          const element = document.querySelector('#df-954671d2-24b9-4503-86b9-199cb19557fb');\n",
              "          const dataTable =\n",
              "            await google.colab.kernel.invokeFunction('convertToInteractive',\n",
              "                                                     [key], {});\n",
              "          if (!dataTable) return;\n",
              "\n",
              "          const docLinkHtml = 'Like what you see? Visit the ' +\n",
              "            '<a target=\"_blank\" href=https://colab.research.google.com/notebooks/data_table.ipynb>data table notebook</a>'\n",
              "            + ' to learn more about interactive tables.';\n",
              "          element.innerHTML = '';\n",
              "          dataTable['output_type'] = 'display_data';\n",
              "          await google.colab.output.renderOutput(dataTable, element);\n",
              "          const docLink = document.createElement('div');\n",
              "          docLink.innerHTML = docLinkHtml;\n",
              "          element.appendChild(docLink);\n",
              "        }\n",
              "      </script>\n",
              "    </div>\n",
              "  </div>\n",
              "  "
            ]
          },
          "metadata": {},
          "execution_count": 32
        }
      ]
    },
    {
      "cell_type": "code",
      "source": [
        "welfare.shape"
      ],
      "metadata": {
        "colab": {
          "base_uri": "https://localhost:8080/"
        },
        "id": "UY6LSe99X7aV",
        "outputId": "8a262611-7fbb-439b-a4d2-6f9368572ff7"
      },
      "execution_count": 33,
      "outputs": [
        {
          "output_type": "execute_result",
          "data": {
            "text/plain": [
              "(14418, 830)"
            ]
          },
          "metadata": {},
          "execution_count": 33
        }
      ]
    },
    {
      "cell_type": "code",
      "source": [
        "welfare.info()"
      ],
      "metadata": {
        "colab": {
          "base_uri": "https://localhost:8080/"
        },
        "id": "h1zxocaPX9YP",
        "outputId": "3a9c7769-3795-45eb-94c5-caaad6f2262d"
      },
      "execution_count": 34,
      "outputs": [
        {
          "output_type": "stream",
          "name": "stdout",
          "text": [
            "<class 'pandas.core.frame.DataFrame'>\n",
            "RangeIndex: 14418 entries, 0 to 14417\n",
            "Columns: 830 entries, h14_id to h14_pers_income5\n",
            "dtypes: float64(826), object(4)\n",
            "memory usage: 91.3+ MB\n"
          ]
        }
      ]
    },
    {
      "cell_type": "code",
      "source": [
        "welfare.describe()"
      ],
      "metadata": {
        "colab": {
          "base_uri": "https://localhost:8080/",
          "height": 393
        },
        "id": "Dc9cQuw_X_lo",
        "outputId": "99658961-0bf0-45d4-c61b-a33941e86759"
      },
      "execution_count": 35,
      "outputs": [
        {
          "output_type": "execute_result",
          "data": {
            "text/plain": [
              "             h14_id       h14_ind        h14_sn    h14_merkey         h_new  \\\n",
              "count  14418.000000  14418.000000  14418.000000  1.441800e+04  14418.000000   \n",
              "mean    4672.108406      3.121723      1.004855  4.672140e+07      0.201484   \n",
              "std     2792.998128      3.297963      0.143205  2.793014e+07      0.401123   \n",
              "min        2.000000      1.000000      1.000000  2.010100e+04      0.000000   \n",
              "25%     2356.000000      1.000000      1.000000  2.356030e+07      0.000000   \n",
              "50%     4535.000000      1.000000      1.000000  4.535010e+07      0.000000   \n",
              "75%     6616.000000      7.000000      1.000000  6.616010e+07      0.000000   \n",
              "max     9800.000000     14.000000      9.000000  9.800070e+07      1.000000   \n",
              "\n",
              "         h14_cobf       p14_wsc       p14_wsl       p14_wgc       p14_wgl  \\\n",
              "count  121.000000  11513.000000  11513.000000  11513.000000  11513.000000   \n",
              "mean     2.256198      1.000000      1.000000   4484.952219   4484.952541   \n",
              "std      1.675952      0.906021      1.016782   4063.459773   4560.218659   \n",
              "min      1.000000      0.001998      0.000000      8.960093      0.000000   \n",
              "25%      1.000000      0.341814      0.269286   1533.021553   1207.736094   \n",
              "50%      2.000000      0.726304      0.704045   3257.436901   3157.609630   \n",
              "75%      2.000000      1.366071      1.390045   6126.762919   6234.287538   \n",
              "max      7.000000      4.727006      5.790039  21200.393903  25968.049029   \n",
              "\n",
              "       ...      wc14_63      wc14_64    wc14_5aq4    wc14_5aq5    wc14_5aq6  \\\n",
              "count  ...  2027.000000  2027.000000  2027.000000  2027.000000  2027.000000   \n",
              "mean   ...     3.211643     3.743957     3.513567     4.100641     3.233350   \n",
              "std    ...     2.174768     3.138629     1.045929     0.937712     1.289456   \n",
              "min    ...     1.000000     1.000000     1.000000     1.000000     1.000000   \n",
              "25%    ...     1.000000     2.000000     3.000000     4.000000     2.000000   \n",
              "50%    ...     3.000000     3.000000     4.000000     4.000000     3.000000   \n",
              "75%    ...     5.000000     5.000000     4.000000     5.000000     4.000000   \n",
              "max    ...     9.000000    99.000000     9.000000     9.000000     9.000000   \n",
              "\n",
              "       h14_pers_income1  h14_pers_income2  h14_pers_income3  h14_pers_income4  \\\n",
              "count       2659.000000       3331.000000        989.000000      14418.000000   \n",
              "mean        4141.380594       1389.440408       3457.835187          2.038702   \n",
              "std         2583.755449       1211.910836       6619.516319         32.965477   \n",
              "min            0.000000          0.000000     -47000.000000          0.000000   \n",
              "25%         2448.000000        391.500000       1000.000000          0.000000   \n",
              "50%         3540.000000       1116.000000       2498.000000          0.000000   \n",
              "75%         5378.500000       2040.000000       4687.000000          0.000000   \n",
              "max        22700.000000      11500.000000     170000.000000       3000.000000   \n",
              "\n",
              "       h14_pers_income5  \n",
              "count        715.000000  \n",
              "mean        1183.292308  \n",
              "std         2147.418274  \n",
              "min       -10600.000000  \n",
              "25%          206.000000  \n",
              "50%          530.000000  \n",
              "75%         1295.000000  \n",
              "max        22644.000000  \n",
              "\n",
              "[8 rows x 826 columns]"
            ],
            "text/html": [
              "\n",
              "  <div id=\"df-898ae020-0d01-42ad-8fab-1a9059b21a50\">\n",
              "    <div class=\"colab-df-container\">\n",
              "      <div>\n",
              "<style scoped>\n",
              "    .dataframe tbody tr th:only-of-type {\n",
              "        vertical-align: middle;\n",
              "    }\n",
              "\n",
              "    .dataframe tbody tr th {\n",
              "        vertical-align: top;\n",
              "    }\n",
              "\n",
              "    .dataframe thead th {\n",
              "        text-align: right;\n",
              "    }\n",
              "</style>\n",
              "<table border=\"1\" class=\"dataframe\">\n",
              "  <thead>\n",
              "    <tr style=\"text-align: right;\">\n",
              "      <th></th>\n",
              "      <th>h14_id</th>\n",
              "      <th>h14_ind</th>\n",
              "      <th>h14_sn</th>\n",
              "      <th>h14_merkey</th>\n",
              "      <th>h_new</th>\n",
              "      <th>h14_cobf</th>\n",
              "      <th>p14_wsc</th>\n",
              "      <th>p14_wsl</th>\n",
              "      <th>p14_wgc</th>\n",
              "      <th>p14_wgl</th>\n",
              "      <th>...</th>\n",
              "      <th>wc14_63</th>\n",
              "      <th>wc14_64</th>\n",
              "      <th>wc14_5aq4</th>\n",
              "      <th>wc14_5aq5</th>\n",
              "      <th>wc14_5aq6</th>\n",
              "      <th>h14_pers_income1</th>\n",
              "      <th>h14_pers_income2</th>\n",
              "      <th>h14_pers_income3</th>\n",
              "      <th>h14_pers_income4</th>\n",
              "      <th>h14_pers_income5</th>\n",
              "    </tr>\n",
              "  </thead>\n",
              "  <tbody>\n",
              "    <tr>\n",
              "      <th>count</th>\n",
              "      <td>14418.000000</td>\n",
              "      <td>14418.000000</td>\n",
              "      <td>14418.000000</td>\n",
              "      <td>1.441800e+04</td>\n",
              "      <td>14418.000000</td>\n",
              "      <td>121.000000</td>\n",
              "      <td>11513.000000</td>\n",
              "      <td>11513.000000</td>\n",
              "      <td>11513.000000</td>\n",
              "      <td>11513.000000</td>\n",
              "      <td>...</td>\n",
              "      <td>2027.000000</td>\n",
              "      <td>2027.000000</td>\n",
              "      <td>2027.000000</td>\n",
              "      <td>2027.000000</td>\n",
              "      <td>2027.000000</td>\n",
              "      <td>2659.000000</td>\n",
              "      <td>3331.000000</td>\n",
              "      <td>989.000000</td>\n",
              "      <td>14418.000000</td>\n",
              "      <td>715.000000</td>\n",
              "    </tr>\n",
              "    <tr>\n",
              "      <th>mean</th>\n",
              "      <td>4672.108406</td>\n",
              "      <td>3.121723</td>\n",
              "      <td>1.004855</td>\n",
              "      <td>4.672140e+07</td>\n",
              "      <td>0.201484</td>\n",
              "      <td>2.256198</td>\n",
              "      <td>1.000000</td>\n",
              "      <td>1.000000</td>\n",
              "      <td>4484.952219</td>\n",
              "      <td>4484.952541</td>\n",
              "      <td>...</td>\n",
              "      <td>3.211643</td>\n",
              "      <td>3.743957</td>\n",
              "      <td>3.513567</td>\n",
              "      <td>4.100641</td>\n",
              "      <td>3.233350</td>\n",
              "      <td>4141.380594</td>\n",
              "      <td>1389.440408</td>\n",
              "      <td>3457.835187</td>\n",
              "      <td>2.038702</td>\n",
              "      <td>1183.292308</td>\n",
              "    </tr>\n",
              "    <tr>\n",
              "      <th>std</th>\n",
              "      <td>2792.998128</td>\n",
              "      <td>3.297963</td>\n",
              "      <td>0.143205</td>\n",
              "      <td>2.793014e+07</td>\n",
              "      <td>0.401123</td>\n",
              "      <td>1.675952</td>\n",
              "      <td>0.906021</td>\n",
              "      <td>1.016782</td>\n",
              "      <td>4063.459773</td>\n",
              "      <td>4560.218659</td>\n",
              "      <td>...</td>\n",
              "      <td>2.174768</td>\n",
              "      <td>3.138629</td>\n",
              "      <td>1.045929</td>\n",
              "      <td>0.937712</td>\n",
              "      <td>1.289456</td>\n",
              "      <td>2583.755449</td>\n",
              "      <td>1211.910836</td>\n",
              "      <td>6619.516319</td>\n",
              "      <td>32.965477</td>\n",
              "      <td>2147.418274</td>\n",
              "    </tr>\n",
              "    <tr>\n",
              "      <th>min</th>\n",
              "      <td>2.000000</td>\n",
              "      <td>1.000000</td>\n",
              "      <td>1.000000</td>\n",
              "      <td>2.010100e+04</td>\n",
              "      <td>0.000000</td>\n",
              "      <td>1.000000</td>\n",
              "      <td>0.001998</td>\n",
              "      <td>0.000000</td>\n",
              "      <td>8.960093</td>\n",
              "      <td>0.000000</td>\n",
              "      <td>...</td>\n",
              "      <td>1.000000</td>\n",
              "      <td>1.000000</td>\n",
              "      <td>1.000000</td>\n",
              "      <td>1.000000</td>\n",
              "      <td>1.000000</td>\n",
              "      <td>0.000000</td>\n",
              "      <td>0.000000</td>\n",
              "      <td>-47000.000000</td>\n",
              "      <td>0.000000</td>\n",
              "      <td>-10600.000000</td>\n",
              "    </tr>\n",
              "    <tr>\n",
              "      <th>25%</th>\n",
              "      <td>2356.000000</td>\n",
              "      <td>1.000000</td>\n",
              "      <td>1.000000</td>\n",
              "      <td>2.356030e+07</td>\n",
              "      <td>0.000000</td>\n",
              "      <td>1.000000</td>\n",
              "      <td>0.341814</td>\n",
              "      <td>0.269286</td>\n",
              "      <td>1533.021553</td>\n",
              "      <td>1207.736094</td>\n",
              "      <td>...</td>\n",
              "      <td>1.000000</td>\n",
              "      <td>2.000000</td>\n",
              "      <td>3.000000</td>\n",
              "      <td>4.000000</td>\n",
              "      <td>2.000000</td>\n",
              "      <td>2448.000000</td>\n",
              "      <td>391.500000</td>\n",
              "      <td>1000.000000</td>\n",
              "      <td>0.000000</td>\n",
              "      <td>206.000000</td>\n",
              "    </tr>\n",
              "    <tr>\n",
              "      <th>50%</th>\n",
              "      <td>4535.000000</td>\n",
              "      <td>1.000000</td>\n",
              "      <td>1.000000</td>\n",
              "      <td>4.535010e+07</td>\n",
              "      <td>0.000000</td>\n",
              "      <td>2.000000</td>\n",
              "      <td>0.726304</td>\n",
              "      <td>0.704045</td>\n",
              "      <td>3257.436901</td>\n",
              "      <td>3157.609630</td>\n",
              "      <td>...</td>\n",
              "      <td>3.000000</td>\n",
              "      <td>3.000000</td>\n",
              "      <td>4.000000</td>\n",
              "      <td>4.000000</td>\n",
              "      <td>3.000000</td>\n",
              "      <td>3540.000000</td>\n",
              "      <td>1116.000000</td>\n",
              "      <td>2498.000000</td>\n",
              "      <td>0.000000</td>\n",
              "      <td>530.000000</td>\n",
              "    </tr>\n",
              "    <tr>\n",
              "      <th>75%</th>\n",
              "      <td>6616.000000</td>\n",
              "      <td>7.000000</td>\n",
              "      <td>1.000000</td>\n",
              "      <td>6.616010e+07</td>\n",
              "      <td>0.000000</td>\n",
              "      <td>2.000000</td>\n",
              "      <td>1.366071</td>\n",
              "      <td>1.390045</td>\n",
              "      <td>6126.762919</td>\n",
              "      <td>6234.287538</td>\n",
              "      <td>...</td>\n",
              "      <td>5.000000</td>\n",
              "      <td>5.000000</td>\n",
              "      <td>4.000000</td>\n",
              "      <td>5.000000</td>\n",
              "      <td>4.000000</td>\n",
              "      <td>5378.500000</td>\n",
              "      <td>2040.000000</td>\n",
              "      <td>4687.000000</td>\n",
              "      <td>0.000000</td>\n",
              "      <td>1295.000000</td>\n",
              "    </tr>\n",
              "    <tr>\n",
              "      <th>max</th>\n",
              "      <td>9800.000000</td>\n",
              "      <td>14.000000</td>\n",
              "      <td>9.000000</td>\n",
              "      <td>9.800070e+07</td>\n",
              "      <td>1.000000</td>\n",
              "      <td>7.000000</td>\n",
              "      <td>4.727006</td>\n",
              "      <td>5.790039</td>\n",
              "      <td>21200.393903</td>\n",
              "      <td>25968.049029</td>\n",
              "      <td>...</td>\n",
              "      <td>9.000000</td>\n",
              "      <td>99.000000</td>\n",
              "      <td>9.000000</td>\n",
              "      <td>9.000000</td>\n",
              "      <td>9.000000</td>\n",
              "      <td>22700.000000</td>\n",
              "      <td>11500.000000</td>\n",
              "      <td>170000.000000</td>\n",
              "      <td>3000.000000</td>\n",
              "      <td>22644.000000</td>\n",
              "    </tr>\n",
              "  </tbody>\n",
              "</table>\n",
              "<p>8 rows × 826 columns</p>\n",
              "</div>\n",
              "      <button class=\"colab-df-convert\" onclick=\"convertToInteractive('df-898ae020-0d01-42ad-8fab-1a9059b21a50')\"\n",
              "              title=\"Convert this dataframe to an interactive table.\"\n",
              "              style=\"display:none;\">\n",
              "        \n",
              "  <svg xmlns=\"http://www.w3.org/2000/svg\" height=\"24px\"viewBox=\"0 0 24 24\"\n",
              "       width=\"24px\">\n",
              "    <path d=\"M0 0h24v24H0V0z\" fill=\"none\"/>\n",
              "    <path d=\"M18.56 5.44l.94 2.06.94-2.06 2.06-.94-2.06-.94-.94-2.06-.94 2.06-2.06.94zm-11 1L8.5 8.5l.94-2.06 2.06-.94-2.06-.94L8.5 2.5l-.94 2.06-2.06.94zm10 10l.94 2.06.94-2.06 2.06-.94-2.06-.94-.94-2.06-.94 2.06-2.06.94z\"/><path d=\"M17.41 7.96l-1.37-1.37c-.4-.4-.92-.59-1.43-.59-.52 0-1.04.2-1.43.59L10.3 9.45l-7.72 7.72c-.78.78-.78 2.05 0 2.83L4 21.41c.39.39.9.59 1.41.59.51 0 1.02-.2 1.41-.59l7.78-7.78 2.81-2.81c.8-.78.8-2.07 0-2.86zM5.41 20L4 18.59l7.72-7.72 1.47 1.35L5.41 20z\"/>\n",
              "  </svg>\n",
              "      </button>\n",
              "      \n",
              "  <style>\n",
              "    .colab-df-container {\n",
              "      display:flex;\n",
              "      flex-wrap:wrap;\n",
              "      gap: 12px;\n",
              "    }\n",
              "\n",
              "    .colab-df-convert {\n",
              "      background-color: #E8F0FE;\n",
              "      border: none;\n",
              "      border-radius: 50%;\n",
              "      cursor: pointer;\n",
              "      display: none;\n",
              "      fill: #1967D2;\n",
              "      height: 32px;\n",
              "      padding: 0 0 0 0;\n",
              "      width: 32px;\n",
              "    }\n",
              "\n",
              "    .colab-df-convert:hover {\n",
              "      background-color: #E2EBFA;\n",
              "      box-shadow: 0px 1px 2px rgba(60, 64, 67, 0.3), 0px 1px 3px 1px rgba(60, 64, 67, 0.15);\n",
              "      fill: #174EA6;\n",
              "    }\n",
              "\n",
              "    [theme=dark] .colab-df-convert {\n",
              "      background-color: #3B4455;\n",
              "      fill: #D2E3FC;\n",
              "    }\n",
              "\n",
              "    [theme=dark] .colab-df-convert:hover {\n",
              "      background-color: #434B5C;\n",
              "      box-shadow: 0px 1px 3px 1px rgba(0, 0, 0, 0.15);\n",
              "      filter: drop-shadow(0px 1px 2px rgba(0, 0, 0, 0.3));\n",
              "      fill: #FFFFFF;\n",
              "    }\n",
              "  </style>\n",
              "\n",
              "      <script>\n",
              "        const buttonEl =\n",
              "          document.querySelector('#df-898ae020-0d01-42ad-8fab-1a9059b21a50 button.colab-df-convert');\n",
              "        buttonEl.style.display =\n",
              "          google.colab.kernel.accessAllowed ? 'block' : 'none';\n",
              "\n",
              "        async function convertToInteractive(key) {\n",
              "          const element = document.querySelector('#df-898ae020-0d01-42ad-8fab-1a9059b21a50');\n",
              "          const dataTable =\n",
              "            await google.colab.kernel.invokeFunction('convertToInteractive',\n",
              "                                                     [key], {});\n",
              "          if (!dataTable) return;\n",
              "\n",
              "          const docLinkHtml = 'Like what you see? Visit the ' +\n",
              "            '<a target=\"_blank\" href=https://colab.research.google.com/notebooks/data_table.ipynb>data table notebook</a>'\n",
              "            + ' to learn more about interactive tables.';\n",
              "          element.innerHTML = '';\n",
              "          dataTable['output_type'] = 'display_data';\n",
              "          await google.colab.output.renderOutput(dataTable, element);\n",
              "          const docLink = document.createElement('div');\n",
              "          docLink.innerHTML = docLinkHtml;\n",
              "          element.appendChild(docLink);\n",
              "        }\n",
              "      </script>\n",
              "    </div>\n",
              "  </div>\n",
              "  "
            ]
          },
          "metadata": {},
          "execution_count": 35
        }
      ]
    },
    {
      "cell_type": "code",
      "source": [
        "welfare = welfare\\\n",
        ".rename(\n",
        "    columns = {\n",
        "        'h14_g3':'sex',\n",
        "        'h14_g4':'birth',\n",
        "        'h14_g10':'marriage_type',\n",
        "        'h14_g11':'religion',\n",
        "        'p1402_8aq1':'income',\n",
        "        'h14_eco9':'code_job',\n",
        "        'h14_reg7':'code_region'\n",
        "        })"
      ],
      "metadata": {
        "id": "TvI14V6tYDpZ"
      },
      "execution_count": 36,
      "outputs": []
    },
    {
      "cell_type": "markdown",
      "source": [
        "#[09-2] 성별에 따른 월급 차이 - 성별에 따라 월급이 다를까?"
      ],
      "metadata": {
        "id": "6y6FFx9EZ1Oa"
      }
    },
    {
      "cell_type": "markdown",
      "source": [
        "229"
      ],
      "metadata": {
        "id": "7ao98ZcjbPR3"
      }
    },
    {
      "cell_type": "code",
      "source": [
        "welfare['sex'].dtypes"
      ],
      "metadata": {
        "colab": {
          "base_uri": "https://localhost:8080/"
        },
        "id": "RueboOgVaMrz",
        "outputId": "ccc251be-1f65-40fc-a9a8-bd102ad788e2"
      },
      "execution_count": 37,
      "outputs": [
        {
          "output_type": "execute_result",
          "data": {
            "text/plain": [
              "dtype('float64')"
            ]
          },
          "metadata": {},
          "execution_count": 37
        }
      ]
    },
    {
      "cell_type": "code",
      "source": [
        "welfare['sex'].value_counts()"
      ],
      "metadata": {
        "colab": {
          "base_uri": "https://localhost:8080/"
        },
        "id": "PyIdB77vaQYy",
        "outputId": "351dfb23-fffa-42b7-d5f9-2bf9def8ed4d"
      },
      "execution_count": 38,
      "outputs": [
        {
          "output_type": "execute_result",
          "data": {
            "text/plain": [
              "2.0    7913\n",
              "1.0    6505\n",
              "Name: sex, dtype: int64"
            ]
          },
          "metadata": {},
          "execution_count": 38
        }
      ]
    },
    {
      "cell_type": "markdown",
      "source": [
        "230"
      ],
      "metadata": {
        "id": "v9yVRx5wbOCd"
      }
    },
    {
      "cell_type": "code",
      "source": [
        "welfare['sex'].value_counts()"
      ],
      "metadata": {
        "colab": {
          "base_uri": "https://localhost:8080/"
        },
        "id": "RfKvipGxcLK5",
        "outputId": "08cc92ab-1bc6-485b-a641-2264fb373c01"
      },
      "execution_count": 39,
      "outputs": [
        {
          "output_type": "execute_result",
          "data": {
            "text/plain": [
              "2.0    7913\n",
              "1.0    6505\n",
              "Name: sex, dtype: int64"
            ]
          },
          "metadata": {},
          "execution_count": 39
        }
      ]
    },
    {
      "cell_type": "code",
      "source": [
        "welfare['sex'] = np.where(welfare['sex'] == 9, np.nan, welfare['sex'])"
      ],
      "metadata": {
        "id": "wPatYGcCcOpG"
      },
      "execution_count": 40,
      "outputs": []
    },
    {
      "cell_type": "code",
      "source": [
        "welfare['sex'].isna().sum()"
      ],
      "metadata": {
        "colab": {
          "base_uri": "https://localhost:8080/"
        },
        "id": "ltcPVS5PcXUb",
        "outputId": "be751eb7-167e-47d0-ed65-fbfcd9ffceff"
      },
      "execution_count": 41,
      "outputs": [
        {
          "output_type": "execute_result",
          "data": {
            "text/plain": [
              "0"
            ]
          },
          "metadata": {},
          "execution_count": 41
        }
      ]
    },
    {
      "cell_type": "code",
      "source": [
        "welfare['sex'] = np.where(welfare['sex']==1, 'male', 'female')"
      ],
      "metadata": {
        "id": "eJJ3CvWiH_vw"
      },
      "execution_count": 42,
      "outputs": []
    },
    {
      "cell_type": "code",
      "source": [
        "welfare['sex'].value_counts()"
      ],
      "metadata": {
        "colab": {
          "base_uri": "https://localhost:8080/"
        },
        "id": "_TiZi1iZccnc",
        "outputId": "3b7536fe-e2f1-44c9-ce5e-eb150d5e0e59"
      },
      "execution_count": 43,
      "outputs": [
        {
          "output_type": "execute_result",
          "data": {
            "text/plain": [
              "female    7913\n",
              "male      6505\n",
              "Name: sex, dtype: int64"
            ]
          },
          "metadata": {},
          "execution_count": 43
        }
      ]
    },
    {
      "cell_type": "markdown",
      "source": [
        "231"
      ],
      "metadata": {
        "id": "RbIGeYAVcl4A"
      }
    },
    {
      "cell_type": "code",
      "source": [
        "welfare['income'].dtypes"
      ],
      "metadata": {
        "colab": {
          "base_uri": "https://localhost:8080/"
        },
        "id": "c5dEoRVFA54Y",
        "outputId": "f629ab70-3920-49b5-a597-8fa9867d8a7e"
      },
      "execution_count": 44,
      "outputs": [
        {
          "output_type": "execute_result",
          "data": {
            "text/plain": [
              "dtype('float64')"
            ]
          },
          "metadata": {},
          "execution_count": 44
        }
      ]
    },
    {
      "cell_type": "markdown",
      "source": [
        "232"
      ],
      "metadata": {
        "id": "3Sa1x1NYBela"
      }
    },
    {
      "cell_type": "code",
      "source": [
        "welfare['income'].describe()"
      ],
      "metadata": {
        "colab": {
          "base_uri": "https://localhost:8080/"
        },
        "id": "VER9qfpLBvI-",
        "outputId": "165a034b-94c3-4090-f76c-1fb9669cdfa8"
      },
      "execution_count": 45,
      "outputs": [
        {
          "output_type": "execute_result",
          "data": {
            "text/plain": [
              "count    4534.000000\n",
              "mean      268.455007\n",
              "std       198.021206\n",
              "min         0.000000\n",
              "25%       150.000000\n",
              "50%       220.000000\n",
              "75%       345.750000\n",
              "max      1892.000000\n",
              "Name: income, dtype: float64"
            ]
          },
          "metadata": {},
          "execution_count": 45
        }
      ]
    },
    {
      "cell_type": "code",
      "source": [
        "sns.histplot(data=welfare, x='income')"
      ],
      "metadata": {
        "colab": {
          "base_uri": "https://localhost:8080/",
          "height": 297
        },
        "id": "hxEKvgl_B3lj",
        "outputId": "8144caba-9cc7-456b-f604-f951e7095cc1"
      },
      "execution_count": 46,
      "outputs": [
        {
          "output_type": "execute_result",
          "data": {
            "text/plain": [
              "<matplotlib.axes._subplots.AxesSubplot at 0x7f36439e3110>"
            ]
          },
          "metadata": {},
          "execution_count": 46
        },
        {
          "output_type": "display_data",
          "data": {
            "text/plain": [
              "<Figure size 432x288 with 1 Axes>"
            ],
            "image/png": "[encoded data removed]"
          },
          "metadata": {
            "needs_background": "light"
          }
        }
      ]
    },
    {
      "cell_type": "markdown",
      "source": [
        "233"
      ],
      "metadata": {
        "id": "lBXEMun_CJEG"
      }
    },
    {
      "cell_type": "code",
      "source": [
        "welfare['income'].describe()"
      ],
      "metadata": {
        "colab": {
          "base_uri": "https://localhost:8080/"
        },
        "id": "TGr5GSclCzh5",
        "outputId": "58f7f285-da70-4f83-f950-80ce6856e1a3"
      },
      "execution_count": 47,
      "outputs": [
        {
          "output_type": "execute_result",
          "data": {
            "text/plain": [
              "count    4534.000000\n",
              "mean      268.455007\n",
              "std       198.021206\n",
              "min         0.000000\n",
              "25%       150.000000\n",
              "50%       220.000000\n",
              "75%       345.750000\n",
              "max      1892.000000\n",
              "Name: income, dtype: float64"
            ]
          },
          "metadata": {},
          "execution_count": 47
        }
      ]
    },
    {
      "cell_type": "code",
      "source": [
        "welfare['income'].isna().sum()"
      ],
      "metadata": {
        "colab": {
          "base_uri": "https://localhost:8080/"
        },
        "id": "dGImSpgXC3cg",
        "outputId": "95ac01f1-ec8d-4ebd-980a-3baefa00ca4e"
      },
      "execution_count": 48,
      "outputs": [
        {
          "output_type": "execute_result",
          "data": {
            "text/plain": [
              "9884"
            ]
          },
          "metadata": {},
          "execution_count": 48
        }
      ]
    },
    {
      "cell_type": "code",
      "source": [
        "welfare['income'] = np.where(welfare['income']==9999, np.nan, welfare['income'])"
      ],
      "metadata": {
        "id": "QxTPaY4cDFGx"
      },
      "execution_count": 49,
      "outputs": []
    },
    {
      "cell_type": "code",
      "source": [
        "welfare['income'].isna().sum()"
      ],
      "metadata": {
        "colab": {
          "base_uri": "https://localhost:8080/"
        },
        "id": "tVOzpFm_DleO",
        "outputId": "ec490808-dd83-4257-8f54-0918cb3a0ccd"
      },
      "execution_count": 50,
      "outputs": [
        {
          "output_type": "execute_result",
          "data": {
            "text/plain": [
              "9884"
            ]
          },
          "metadata": {},
          "execution_count": 50
        }
      ]
    },
    {
      "cell_type": "markdown",
      "source": [
        "234"
      ],
      "metadata": {
        "id": "O2fjbWl3D7oB"
      }
    },
    {
      "cell_type": "code",
      "source": [
        "sex_income = welfare\\\n",
        ".dropna(subset=['income'])\\\n",
        ".groupby('sex', as_index=False)\\\n",
        ".agg(mean_income=('income', 'mean'))"
      ],
      "metadata": {
        "id": "G8ZYaHeBFwWA"
      },
      "execution_count": 51,
      "outputs": []
    },
    {
      "cell_type": "code",
      "source": [
        "sex_income"
      ],
      "metadata": {
        "colab": {
          "base_uri": "https://localhost:8080/",
          "height": 112
        },
        "id": "1L7dvPcdGPar",
        "outputId": "dacfaf44-40b6-4071-9ce0-8cc6df86f6a5"
      },
      "execution_count": 52,
      "outputs": [
        {
          "output_type": "execute_result",
          "data": {
            "text/plain": [
              "      sex  mean_income\n",
              "0  female   186.293096\n",
              "1    male   349.037571"
            ],
            "text/html": [
              "\n",
              "  <div id=\"df-8d791d1b-ddb7-4161-b8b3-917c64b19042\">\n",
              "    <div class=\"colab-df-container\">\n",
              "      <div>\n",
              "<style scoped>\n",
              "    .dataframe tbody tr th:only-of-type {\n",
              "        vertical-align: middle;\n",
              "    }\n",
              "\n",
              "    .dataframe tbody tr th {\n",
              "        vertical-align: top;\n",
              "    }\n",
              "\n",
              "    .dataframe thead th {\n",
              "        text-align: right;\n",
              "    }\n",
              "</style>\n",
              "<table border=\"1\" class=\"dataframe\">\n",
              "  <thead>\n",
              "    <tr style=\"text-align: right;\">\n",
              "      <th></th>\n",
              "      <th>sex</th>\n",
              "      <th>mean_income</th>\n",
              "    </tr>\n",
              "  </thead>\n",
              "  <tbody>\n",
              "    <tr>\n",
              "      <th>0</th>\n",
              "      <td>female</td>\n",
              "      <td>186.293096</td>\n",
              "    </tr>\n",
              "    <tr>\n",
              "      <th>1</th>\n",
              "      <td>male</td>\n",
              "      <td>349.037571</td>\n",
              "    </tr>\n",
              "  </tbody>\n",
              "</table>\n",
              "</div>\n",
              "      <button class=\"colab-df-convert\" onclick=\"convertToInteractive('df-8d791d1b-ddb7-4161-b8b3-917c64b19042')\"\n",
              "              title=\"Convert this dataframe to an interactive table.\"\n",
              "              style=\"display:none;\">\n",
              "        \n",
              "  <svg xmlns=\"http://www.w3.org/2000/svg\" height=\"24px\"viewBox=\"0 0 24 24\"\n",
              "       width=\"24px\">\n",
              "    <path d=\"M0 0h24v24H0V0z\" fill=\"none\"/>\n",
              "    <path d=\"M18.56 5.44l.94 2.06.94-2.06 2.06-.94-2.06-.94-.94-2.06-.94 2.06-2.06.94zm-11 1L8.5 8.5l.94-2.06 2.06-.94-2.06-.94L8.5 2.5l-.94 2.06-2.06.94zm10 10l.94 2.06.94-2.06 2.06-.94-2.06-.94-.94-2.06-.94 2.06-2.06.94z\"/><path d=\"M17.41 7.96l-1.37-1.37c-.4-.4-.92-.59-1.43-.59-.52 0-1.04.2-1.43.59L10.3 9.45l-7.72 7.72c-.78.78-.78 2.05 0 2.83L4 21.41c.39.39.9.59 1.41.59.51 0 1.02-.2 1.41-.59l7.78-7.78 2.81-2.81c.8-.78.8-2.07 0-2.86zM5.41 20L4 18.59l7.72-7.72 1.47 1.35L5.41 20z\"/>\n",
              "  </svg>\n",
              "      </button>\n",
              "      \n",
              "  <style>\n",
              "    .colab-df-container {\n",
              "      display:flex;\n",
              "      flex-wrap:wrap;\n",
              "      gap: 12px;\n",
              "    }\n",
              "\n",
              "    .colab-df-convert {\n",
              "      background-color: #E8F0FE;\n",
              "      border: none;\n",
              "      border-radius: 50%;\n",
              "      cursor: pointer;\n",
              "      display: none;\n",
              "      fill: #1967D2;\n",
              "      height: 32px;\n",
              "      padding: 0 0 0 0;\n",
              "      width: 32px;\n",
              "    }\n",
              "\n",
              "    .colab-df-convert:hover {\n",
              "      background-color: #E2EBFA;\n",
              "      box-shadow: 0px 1px 2px rgba(60, 64, 67, 0.3), 0px 1px 3px 1px rgba(60, 64, 67, 0.15);\n",
              "      fill: #174EA6;\n",
              "    }\n",
              "\n",
              "    [theme=dark] .colab-df-convert {\n",
              "      background-color: #3B4455;\n",
              "      fill: #D2E3FC;\n",
              "    }\n",
              "\n",
              "    [theme=dark] .colab-df-convert:hover {\n",
              "      background-color: #434B5C;\n",
              "      box-shadow: 0px 1px 3px 1px rgba(0, 0, 0, 0.15);\n",
              "      filter: drop-shadow(0px 1px 2px rgba(0, 0, 0, 0.3));\n",
              "      fill: #FFFFFF;\n",
              "    }\n",
              "  </style>\n",
              "\n",
              "      <script>\n",
              "        const buttonEl =\n",
              "          document.querySelector('#df-8d791d1b-ddb7-4161-b8b3-917c64b19042 button.colab-df-convert');\n",
              "        buttonEl.style.display =\n",
              "          google.colab.kernel.accessAllowed ? 'block' : 'none';\n",
              "\n",
              "        async function convertToInteractive(key) {\n",
              "          const element = document.querySelector('#df-8d791d1b-ddb7-4161-b8b3-917c64b19042');\n",
              "          const dataTable =\n",
              "            await google.colab.kernel.invokeFunction('convertToInteractive',\n",
              "                                                     [key], {});\n",
              "          if (!dataTable) return;\n",
              "\n",
              "          const docLinkHtml = 'Like what you see? Visit the ' +\n",
              "            '<a target=\"_blank\" href=https://colab.research.google.com/notebooks/data_table.ipynb>data table notebook</a>'\n",
              "            + ' to learn more about interactive tables.';\n",
              "          element.innerHTML = '';\n",
              "          dataTable['output_type'] = 'display_data';\n",
              "          await google.colab.output.renderOutput(dataTable, element);\n",
              "          const docLink = document.createElement('div');\n",
              "          docLink.innerHTML = docLinkHtml;\n",
              "          element.appendChild(docLink);\n",
              "        }\n",
              "      </script>\n",
              "    </div>\n",
              "  </div>\n",
              "  "
            ]
          },
          "metadata": {},
          "execution_count": 52
        }
      ]
    },
    {
      "cell_type": "code",
      "source": [
        "sns.barplot(data=sex_income, x='sex', y='mean_income')"
      ],
      "metadata": {
        "colab": {
          "base_uri": "https://localhost:8080/",
          "height": 297
        },
        "id": "MS5UvWtQIhrR",
        "outputId": "456bc67b-b1a7-4b1c-c0b7-6ec915cee279"
      },
      "execution_count": 53,
      "outputs": [
        {
          "output_type": "execute_result",
          "data": {
            "text/plain": [
              "<matplotlib.axes._subplots.AxesSubplot at 0x7f3644b50e50>"
            ]
          },
          "metadata": {},
          "execution_count": 53
        },
        {
          "output_type": "display_data",
          "data": {
            "text/plain": [
              "<Figure size 432x288 with 1 Axes>"
            ],
            "image/png": "[encoded data removed]"
          },
          "metadata": {
            "needs_background": "light"
          }
        }
      ]
    },
    {
      "cell_type": "markdown",
      "source": [
        "#[09-3] 나이와 월급의 관계 - 몇 살 때 월급을 가장 많이 받을까?"
      ],
      "metadata": {
        "id": "MOoe1sRdIzTl"
      }
    },
    {
      "cell_type": "markdown",
      "source": [
        "235"
      ],
      "metadata": {
        "id": "JfuE2aoiIwq5"
      }
    },
    {
      "cell_type": "code",
      "source": [
        "welfare['birth'].dtypes"
      ],
      "metadata": {
        "colab": {
          "base_uri": "https://localhost:8080/"
        },
        "id": "zflmlylkIvd6",
        "outputId": "4fdd1d0d-23c6-4f01-996d-d7ac1d1941d3"
      },
      "execution_count": 54,
      "outputs": [
        {
          "output_type": "execute_result",
          "data": {
            "text/plain": [
              "dtype('float64')"
            ]
          },
          "metadata": {},
          "execution_count": 54
        }
      ]
    },
    {
      "cell_type": "markdown",
      "source": [
        "236"
      ],
      "metadata": {
        "id": "ozqYsGrjJnkc"
      }
    },
    {
      "cell_type": "code",
      "source": [
        "welfare['birth'].describe()"
      ],
      "metadata": {
        "colab": {
          "base_uri": "https://localhost:8080/"
        },
        "id": "xM7MwB2-Jpoz",
        "outputId": "bf13a225-1797-4025-f0ba-8cb80cd79c2d"
      },
      "execution_count": 56,
      "outputs": [
        {
          "output_type": "execute_result",
          "data": {
            "text/plain": [
              "count    14418.000000\n",
              "mean      1969.280205\n",
              "std         24.402250\n",
              "min       1907.000000\n",
              "25%       1948.000000\n",
              "50%       1968.000000\n",
              "75%       1990.000000\n",
              "max       2018.000000\n",
              "Name: birth, dtype: float64"
            ]
          },
          "metadata": {},
          "execution_count": 56
        }
      ]
    },
    {
      "cell_type": "code",
      "source": [
        "sns.histplot(data=welfare, x='birth')"
      ],
      "metadata": {
        "colab": {
          "base_uri": "https://localhost:8080/",
          "height": 297
        },
        "id": "lBDzXQbBKREP",
        "outputId": "fca5e1b3-3b1b-4c6b-b649-73fcea3bd01b"
      },
      "execution_count": 57,
      "outputs": [
        {
          "output_type": "execute_result",
          "data": {
            "text/plain": [
              "<matplotlib.axes._subplots.AxesSubplot at 0x7f36411b3910>"
            ]
          },
          "metadata": {},
          "execution_count": 57
        },
        {
          "output_type": "display_data",
          "data": {
            "text/plain": [
              "<Figure size 432x288 with 1 Axes>"
            ],
            "image/png": "[encoded data removed]"
          },
          "metadata": {
            "needs_background": "light"
          }
        }
      ]
    },
    {
      "cell_type": "markdown",
      "source": [
        "237"
      ],
      "metadata": {
        "id": "6yj-naqCLDdr"
      }
    },
    {
      "cell_type": "code",
      "source": [
        "welfare['birth'].describe()"
      ],
      "metadata": {
        "colab": {
          "base_uri": "https://localhost:8080/"
        },
        "id": "oktdRB9_K8FO",
        "outputId": "3b57a83f-e1a0-4230-8399-9521b1bac3ba"
      },
      "execution_count": 59,
      "outputs": [
        {
          "output_type": "execute_result",
          "data": {
            "text/plain": [
              "count    14418.000000\n",
              "mean      1969.280205\n",
              "std         24.402250\n",
              "min       1907.000000\n",
              "25%       1948.000000\n",
              "50%       1968.000000\n",
              "75%       1990.000000\n",
              "max       2018.000000\n",
              "Name: birth, dtype: float64"
            ]
          },
          "metadata": {},
          "execution_count": 59
        }
      ]
    },
    {
      "cell_type": "code",
      "source": [
        "welfare['birth'].isna().sum()"
      ],
      "metadata": {
        "colab": {
          "base_uri": "https://localhost:8080/"
        },
        "id": "pRf6jEuGLNQ7",
        "outputId": "6a07abcb-5c26-4dd8-b444-9cd5aac2601d"
      },
      "execution_count": 60,
      "outputs": [
        {
          "output_type": "execute_result",
          "data": {
            "text/plain": [
              "0"
            ]
          },
          "metadata": {},
          "execution_count": 60
        }
      ]
    },
    {
      "cell_type": "code",
      "source": [
        "welfare['birth'] = np.where(welfare['birth']==9999, np.nan, welfare['birth'])"
      ],
      "metadata": {
        "id": "DXQaOlrsLWZ9"
      },
      "execution_count": 61,
      "outputs": []
    },
    {
      "cell_type": "code",
      "source": [
        "welfare['birth'].isna().sum()"
      ],
      "metadata": {
        "colab": {
          "base_uri": "https://localhost:8080/"
        },
        "id": "66qVEqeGLhK6",
        "outputId": "61a32d91-345d-4f16-fa6f-cd71acd9f2e1"
      },
      "execution_count": 62,
      "outputs": [
        {
          "output_type": "execute_result",
          "data": {
            "text/plain": [
              "0"
            ]
          },
          "metadata": {},
          "execution_count": 62
        }
      ]
    },
    {
      "cell_type": "markdown",
      "source": [
        "238"
      ],
      "metadata": {
        "id": "fKz-2vlPLnYd"
      }
    }
  ]
}